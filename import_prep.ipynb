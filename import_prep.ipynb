{
 "cells": [
  {
   "cell_type": "markdown",
   "metadata": {},
   "source": [
    "# OptimizingDelivery Import and Preparation "
   ]
  },
  {
   "cell_type": "markdown",
   "metadata": {},
   "source": [
    "## Import libraries"
   ]
  },
  {
   "cell_type": "code",
   "execution_count": 1,
   "metadata": {},
   "outputs": [],
   "source": [
    "import os \n",
    "import pandas as pd"
   ]
  },
  {
   "cell_type": "markdown",
   "metadata": {},
   "source": [
    "## Import data"
   ]
  },
  {
   "cell_type": "code",
   "execution_count": 2,
   "metadata": {},
   "outputs": [],
   "source": [
    "# Import directory\n",
    "%store -r optimizingdelivery_source_dir"
   ]
  },
  {
   "cell_type": "code",
   "execution_count": 3,
   "metadata": {},
   "outputs": [],
   "source": [
    "# Define the list of file names\n",
    "file_names = ['dim_customers.csv', \n",
    "              'dim_date.csv', \n",
    "              'dim_products.csv', \n",
    "              'dim_targets_orders.csv', \n",
    "              'fact_order_lines.csv', \n",
    "              'fact_orders_aggregate.csv']\n",
    "\n",
    "# Read each CSV file into a pandas DataFrame\n",
    "og_dataframes = [pd.read_csv(os.path.join(optimizingdelivery_source_dir, file)) for file in file_names]\n",
    "\n",
    "# Unpack the list of DataFrames into individual variables\n",
    "customers, all_dates, products, target_orders, order_lines, orders_aggregate = og_dataframes"
   ]
  },
  {
   "cell_type": "code",
   "execution_count": 4,
   "metadata": {},
   "outputs": [
    {
     "name": "stdout",
     "output_type": "stream",
     "text": [
      "(35, 3)\n",
      "(183, 3)\n",
      "(18, 3)\n",
      "(35, 4)\n",
      "(57096, 11)\n",
      "(31729, 6)\n"
     ]
    }
   ],
   "source": [
    "print(customers.shape)\n",
    "print(all_dates.shape)\n",
    "print(products.shape)\n",
    "print(target_orders.shape)\n",
    "print(order_lines.shape)\n",
    "print(orders_aggregate.shape)"
   ]
  },
  {
   "cell_type": "markdown",
   "metadata": {},
   "source": [
    "## Prepare data"
   ]
  },
  {
   "cell_type": "markdown",
   "metadata": {},
   "source": [
    "### Duplicates and nans"
   ]
  },
  {
   "cell_type": "code",
   "execution_count": 5,
   "metadata": {},
   "outputs": [],
   "source": [
    "# Define dataframes and dataframe names\n",
    "dataframes = [customers, all_dates, products, target_orders, order_lines, orders_aggregate]\n",
    "dataframe_names = ['customers', 'all_dates', 'products', 'target_orders', 'order_lines', 'orders_aggregate']"
   ]
  },
  {
   "cell_type": "code",
   "execution_count": 6,
   "metadata": {},
   "outputs": [
    {
     "name": "stdout",
     "output_type": "stream",
     "text": [
      "customers:\n",
      "none\n",
      "all_dates:\n",
      "none\n",
      "products:\n",
      "none\n",
      "target_orders:\n",
      "none\n",
      "order_lines:\n",
      "none\n",
      "orders_aggregate:\n",
      "none\n"
     ]
    }
   ],
   "source": [
    "# Check dataframes for duplicate rows\n",
    "\n",
    "# Define function to check for duplicate rows\n",
    "def check_dupe(dataframe_names, dataframes):\n",
    "\n",
    "    # Loop through each dataframe\n",
    "    for df_name, df in zip(dataframe_names, dataframes):\n",
    "\n",
    "        # Find duplicate rows\n",
    "        duplicates = df[df.duplicated()]\n",
    "\n",
    "        # Yield the dataframe name and duplicated rows\n",
    "        yield df_name, duplicates if not duplicates.empty else pd.DataFrame()\n",
    "\n",
    "# Output the duplicate rows for each dataframe\n",
    "for df_name, duplicates in check_dupe(dataframe_names, dataframes):\n",
    "    \n",
    "    # Print \n",
    "    print(f\"{df_name}:\")\n",
    "    if not duplicates.empty:\n",
    "        print(duplicates)\n",
    "    else:\n",
    "        print(\"none\")\n"
   ]
  },
  {
   "cell_type": "code",
   "execution_count": 7,
   "metadata": {},
   "outputs": [
    {
     "name": "stdout",
     "output_type": "stream",
     "text": [
      "customers:\n",
      "none\n",
      "all_dates:\n",
      "none\n",
      "products:\n",
      "none\n",
      "target_orders:\n",
      "none\n",
      "order_lines:\n",
      "none\n",
      "orders_aggregate:\n",
      "none\n"
     ]
    }
   ],
   "source": [
    "# Check dataframes for nan rows\n",
    "\n",
    "# Define function to check for nan rows\n",
    "def check_nan(dataframe_names, dataframes):\n",
    "\n",
    "    # Loop through each dataframe\n",
    "    for df_name, df in zip(dataframe_names, dataframes):\n",
    "\n",
    "        # Find rows with nan values\n",
    "        nan_rows = df[df.isnull().any(axis=1)]\n",
    "\n",
    "        # Yield the dataframe name and rows with nan values\n",
    "        yield df_name, nan_rows if not nan_rows.empty else None\n",
    "\n",
    "# Output the rows with nan values for each dataframe or output none\n",
    "for df_name, nan_rows in check_nan(dataframe_names, dataframes):\n",
    "\n",
    "    # Print \n",
    "    print(f\"{df_name}:\")\n",
    "    if nan_rows is not None:\n",
    "        print(nan_rows)\n",
    "    else:\n",
    "        print(\"none\")"
   ]
  },
  {
   "cell_type": "markdown",
   "metadata": {},
   "source": [
    "### Refine datatypes"
   ]
  },
  {
   "cell_type": "markdown",
   "metadata": {},
   "source": [
    "#### customers"
   ]
  },
  {
   "cell_type": "code",
   "execution_count": 8,
   "metadata": {},
   "outputs": [
    {
     "data": {
      "text/plain": [
       "customer_id       int64\n",
       "customer_name    object\n",
       "city             object\n",
       "dtype: object"
      ]
     },
     "execution_count": 8,
     "metadata": {},
     "output_type": "execute_result"
    }
   ],
   "source": [
    "customers.dtypes"
   ]
  },
  {
   "cell_type": "markdown",
   "metadata": {},
   "source": [
    "#### all_dates"
   ]
  },
  {
   "cell_type": "code",
   "execution_count": 9,
   "metadata": {},
   "outputs": [],
   "source": [
    "# Create new dates dataframe so it encompasses all of 2022\n",
    "dates_2022 = pd.DataFrame({'date': pd.date_range(start='2022-01-01', end='2022-12-31', freq='D')})\n",
    "\n",
    "# Week number in source data is 8 days ahead of default week numbers\n",
    "# Make sure new week number matchs with source data, testing with 'boingo'\n",
    "dates_2022['boingo'] = dates_2022['date'].dt.isocalendar().week.shift(-8)\n",
    "\n",
    "# Fill in nans from shifting\n",
    "dates_2022.loc[dates_2022.index == 357, 'boingo'] = 52\n",
    "dates_2022.loc[dates_2022.index > 357, 'boingo'] = 53"
   ]
  },
  {
   "cell_type": "code",
   "execution_count": 10,
   "metadata": {},
   "outputs": [
    {
     "name": "stdout",
     "output_type": "stream",
     "text": [
      "all rows match\n"
     ]
    }
   ],
   "source": [
    "# Merge dataframes to check new column matches source\n",
    "\n",
    "# Prepare source for merge\n",
    "all_dates['date'] = pd.to_datetime(all_dates['date'], format='%d-%b-%y')\n",
    "all_dates['week_number'] = all_dates['week_no'].str.split().str[1].astype(int)\n",
    "\n",
    "# Merge\n",
    "merge = pd.merge(all_dates, dates_2022, how='left', on='date')\n",
    "\n",
    "# Output whether rows match\n",
    "if len(merge[~(merge['week_number'] == merge['boingo'])]) == 0:\n",
    "    print(\"all rows match\")"
   ]
  },
  {
   "cell_type": "code",
   "execution_count": 11,
   "metadata": {},
   "outputs": [],
   "source": [
    "# Create additional date columns\n",
    "dates_2022['month'] = dates_2022['date'].dt.month.astype('int64')\n",
    "dates_2022['day'] = dates_2022['date'].dt.day.astype('int64')\n",
    "dates_2022['week_number'] = dates_2022['boingo'].astype('int64')\n",
    "\n",
    "# Reorder columns\n",
    "dates_2022 = dates_2022[['date', 'month', 'day', 'week_number']]"
   ]
  },
  {
   "cell_type": "code",
   "execution_count": 12,
   "metadata": {},
   "outputs": [
    {
     "data": {
      "text/plain": [
       "date           datetime64[ns]\n",
       "month                   int64\n",
       "day                     int64\n",
       "week_number             int64\n",
       "dtype: object"
      ]
     },
     "execution_count": 12,
     "metadata": {},
     "output_type": "execute_result"
    }
   ],
   "source": [
    "dates_2022.dtypes"
   ]
  },
  {
   "cell_type": "markdown",
   "metadata": {},
   "source": [
    "#### products"
   ]
  },
  {
   "cell_type": "code",
   "execution_count": 13,
   "metadata": {},
   "outputs": [
    {
     "data": {
      "text/plain": [
       "product_name    object\n",
       "product_id       int64\n",
       "category        object\n",
       "dtype: object"
      ]
     },
     "execution_count": 13,
     "metadata": {},
     "output_type": "execute_result"
    }
   ],
   "source": [
    "products.dtypes"
   ]
  },
  {
   "cell_type": "markdown",
   "metadata": {},
   "source": [
    "#### target_orders"
   ]
  },
  {
   "cell_type": "code",
   "execution_count": 14,
   "metadata": {},
   "outputs": [
    {
     "data": {
      "text/plain": [
       "customer_id       int64\n",
       "ontime_target%    int64\n",
       "infull_target%    int64\n",
       "otif_target%      int64\n",
       "dtype: object"
      ]
     },
     "execution_count": 14,
     "metadata": {},
     "output_type": "execute_result"
    }
   ],
   "source": [
    "target_orders.dtypes"
   ]
  },
  {
   "cell_type": "markdown",
   "metadata": {},
   "source": [
    "#### order_lines"
   ]
  },
  {
   "cell_type": "code",
   "execution_count": 15,
   "metadata": {},
   "outputs": [
    {
     "data": {
      "text/plain": [
       "order_id                object\n",
       "order_placement_date    object\n",
       "customer_id              int64\n",
       "product_id               int64\n",
       "order_qty                int64\n",
       "agreed_delivery_date    object\n",
       "actual_delivery_date    object\n",
       "delivery_qty             int64\n",
       "In Full                  int64\n",
       "On Time                  int64\n",
       "On Time In Full          int64\n",
       "dtype: object"
      ]
     },
     "execution_count": 15,
     "metadata": {},
     "output_type": "execute_result"
    }
   ],
   "source": [
    "order_lines.dtypes"
   ]
  },
  {
   "cell_type": "code",
   "execution_count": 16,
   "metadata": {},
   "outputs": [],
   "source": [
    "# Change datatypes\n",
    "order_lines['order_placement_date'] = pd.to_datetime(order_lines['order_placement_date'], format='%A, %B %d, %Y')\n",
    "order_lines['agreed_delivery_date'] = pd.to_datetime(order_lines['agreed_delivery_date'], format='%A, %B %d, %Y')\n",
    "order_lines['actual_delivery_date'] = pd.to_datetime(order_lines['actual_delivery_date'], format='%A, %B %d, %Y')\n",
    "\n",
    "# Sort dataframe by date ascending\n",
    "order_lines = order_lines.sort_values('order_placement_date').reset_index(drop=True)\n",
    "\n",
    "# Rename columns\n",
    "order_lines = order_lines.rename(columns={\n",
    "                                          'In Full': 'in_full',\n",
    "                                          'On Time': 'on_time',\n",
    "                                          'On Time In Full': 'on_time_in_full'})\n",
    "\n",
    "# Reorder columns\n",
    "order_lines = order_lines[['order_id', 'order_placement_date', 'customer_id', 'product_id',\n",
    "       'order_qty', 'agreed_delivery_date', 'actual_delivery_date',\n",
    "       'delivery_qty', 'in_full', 'on_time', 'on_time_in_full']].copy()"
   ]
  },
  {
   "cell_type": "code",
   "execution_count": 17,
   "metadata": {},
   "outputs": [
    {
     "data": {
      "text/plain": [
       "order_id                        object\n",
       "order_placement_date    datetime64[ns]\n",
       "customer_id                      int64\n",
       "product_id                       int64\n",
       "order_qty                        int64\n",
       "agreed_delivery_date    datetime64[ns]\n",
       "actual_delivery_date    datetime64[ns]\n",
       "delivery_qty                     int64\n",
       "in_full                          int64\n",
       "on_time                          int64\n",
       "on_time_in_full                  int64\n",
       "dtype: object"
      ]
     },
     "execution_count": 17,
     "metadata": {},
     "output_type": "execute_result"
    }
   ],
   "source": [
    "order_lines.dtypes"
   ]
  },
  {
   "cell_type": "markdown",
   "metadata": {},
   "source": [
    "#### orders_aggregate"
   ]
  },
  {
   "cell_type": "code",
   "execution_count": 18,
   "metadata": {},
   "outputs": [
    {
     "data": {
      "text/plain": [
       "order_id                object\n",
       "customer_id              int64\n",
       "order_placement_date    object\n",
       "on_time                  int64\n",
       "in_full                  int64\n",
       "otif                     int64\n",
       "dtype: object"
      ]
     },
     "execution_count": 18,
     "metadata": {},
     "output_type": "execute_result"
    }
   ],
   "source": [
    "orders_aggregate.dtypes"
   ]
  },
  {
   "cell_type": "code",
   "execution_count": 19,
   "metadata": {},
   "outputs": [],
   "source": [
    "# Change datatypes\n",
    "orders_aggregate['order_placement_date'] = pd.to_datetime(orders_aggregate['order_placement_date'], format='%d-%b-%y')"
   ]
  },
  {
   "cell_type": "code",
   "execution_count": 20,
   "metadata": {},
   "outputs": [
    {
     "data": {
      "text/plain": [
       "order_id                        object\n",
       "customer_id                      int64\n",
       "order_placement_date    datetime64[ns]\n",
       "on_time                          int64\n",
       "in_full                          int64\n",
       "otif                             int64\n",
       "dtype: object"
      ]
     },
     "execution_count": 20,
     "metadata": {},
     "output_type": "execute_result"
    }
   ],
   "source": [
    "orders_aggregate.dtypes"
   ]
  },
  {
   "cell_type": "markdown",
   "metadata": {},
   "source": [
    "### Add calculated columns"
   ]
  },
  {
   "cell_type": "markdown",
   "metadata": {},
   "source": [
    "#### Line Fill Rate"
   ]
  },
  {
   "cell_type": "code",
   "execution_count": 21,
   "metadata": {},
   "outputs": [
    {
     "data": {
      "text/plain": [
       "(57096, 11)"
      ]
     },
     "execution_count": 21,
     "metadata": {},
     "output_type": "execute_result"
    }
   ],
   "source": [
    "order_lines.shape"
   ]
  },
  {
   "cell_type": "code",
   "execution_count": 22,
   "metadata": {},
   "outputs": [
    {
     "name": "stdout",
     "output_type": "stream",
     "text": [
      "(57096, 11)\n"
     ]
    },
    {
     "data": {
      "text/plain": [
       "order_id                        object\n",
       "order_placement_date    datetime64[ns]\n",
       "customer_id                      int64\n",
       "product_id                       int64\n",
       "order_qty                        int64\n",
       "agreed_delivery_date    datetime64[ns]\n",
       "actual_delivery_date    datetime64[ns]\n",
       "delivery_qty                     int64\n",
       "in_full                          int64\n",
       "on_time                          int64\n",
       "on_time_in_full                  int64\n",
       "dtype: object"
      ]
     },
     "execution_count": 22,
     "metadata": {},
     "output_type": "execute_result"
    }
   ],
   "source": [
    "print(order_lines.shape)\n",
    "order_lines.dtypes"
   ]
  },
  {
   "cell_type": "code",
   "execution_count": 23,
   "metadata": {},
   "outputs": [
    {
     "data": {
      "text/plain": [
       "['order_id',\n",
       " 'order_placement_date',\n",
       " 'customer_id',\n",
       " 'product_id',\n",
       " 'order_qty',\n",
       " 'agreed_delivery_date',\n",
       " 'actual_delivery_date',\n",
       " 'delivery_qty',\n",
       " 'in_full',\n",
       " 'on_time',\n",
       " 'on_time_in_full']"
      ]
     },
     "execution_count": 23,
     "metadata": {},
     "output_type": "execute_result"
    }
   ],
   "source": [
    "list(order_lines.columns)"
   ]
  },
  {
   "cell_type": "code",
   "execution_count": 24,
   "metadata": {},
   "outputs": [],
   "source": [
    "# Create line_fill_rate_pct column\n",
    "\n",
    "order_lines['line_fill_rate_pct'] = round(order_lines.groupby('order_id')['in_full'].transform('mean') * 100, 2)"
   ]
  },
  {
   "cell_type": "code",
   "execution_count": 25,
   "metadata": {},
   "outputs": [
    {
     "data": {
      "text/html": [
       "<div>\n",
       "<style scoped>\n",
       "    .dataframe tbody tr th:only-of-type {\n",
       "        vertical-align: middle;\n",
       "    }\n",
       "\n",
       "    .dataframe tbody tr th {\n",
       "        vertical-align: top;\n",
       "    }\n",
       "\n",
       "    .dataframe thead th {\n",
       "        text-align: right;\n",
       "    }\n",
       "</style>\n",
       "<table border=\"1\" class=\"dataframe\">\n",
       "  <thead>\n",
       "    <tr style=\"text-align: right;\">\n",
       "      <th></th>\n",
       "      <th>order_id</th>\n",
       "      <th>product_id</th>\n",
       "      <th>in_full</th>\n",
       "      <th>line_fill_rate_pct</th>\n",
       "    </tr>\n",
       "  </thead>\n",
       "  <tbody>\n",
       "    <tr>\n",
       "      <th>11987</th>\n",
       "      <td>FAP410101302</td>\n",
       "      <td>25891103</td>\n",
       "      <td>1</td>\n",
       "      <td>66.67</td>\n",
       "    </tr>\n",
       "    <tr>\n",
       "      <th>12128</th>\n",
       "      <td>FAP410101302</td>\n",
       "      <td>25891203</td>\n",
       "      <td>1</td>\n",
       "      <td>66.67</td>\n",
       "    </tr>\n",
       "    <tr>\n",
       "      <th>12141</th>\n",
       "      <td>FAP410101302</td>\n",
       "      <td>25891302</td>\n",
       "      <td>0</td>\n",
       "      <td>66.67</td>\n",
       "    </tr>\n",
       "    <tr>\n",
       "      <th>11665</th>\n",
       "      <td>FAP410101402</td>\n",
       "      <td>25891201</td>\n",
       "      <td>1</td>\n",
       "      <td>66.67</td>\n",
       "    </tr>\n",
       "    <tr>\n",
       "      <th>11648</th>\n",
       "      <td>FAP410101402</td>\n",
       "      <td>25891402</td>\n",
       "      <td>0</td>\n",
       "      <td>66.67</td>\n",
       "    </tr>\n",
       "    <tr>\n",
       "      <th>11630</th>\n",
       "      <td>FAP410101402</td>\n",
       "      <td>25891101</td>\n",
       "      <td>1</td>\n",
       "      <td>66.67</td>\n",
       "    </tr>\n",
       "    <tr>\n",
       "      <th>12332</th>\n",
       "      <td>FAP410101502</td>\n",
       "      <td>25891501</td>\n",
       "      <td>1</td>\n",
       "      <td>100.00</td>\n",
       "    </tr>\n",
       "    <tr>\n",
       "      <th>12397</th>\n",
       "      <td>FAP410101502</td>\n",
       "      <td>25891502</td>\n",
       "      <td>1</td>\n",
       "      <td>100.00</td>\n",
       "    </tr>\n",
       "    <tr>\n",
       "      <th>12421</th>\n",
       "      <td>FAP410101502</td>\n",
       "      <td>25891303</td>\n",
       "      <td>1</td>\n",
       "      <td>100.00</td>\n",
       "    </tr>\n",
       "    <tr>\n",
       "      <th>11908</th>\n",
       "      <td>FAP410102503</td>\n",
       "      <td>25891202</td>\n",
       "      <td>0</td>\n",
       "      <td>33.33</td>\n",
       "    </tr>\n",
       "    <tr>\n",
       "      <th>12053</th>\n",
       "      <td>FAP410102503</td>\n",
       "      <td>25891503</td>\n",
       "      <td>0</td>\n",
       "      <td>33.33</td>\n",
       "    </tr>\n",
       "    <tr>\n",
       "      <th>12121</th>\n",
       "      <td>FAP410102503</td>\n",
       "      <td>25891203</td>\n",
       "      <td>1</td>\n",
       "      <td>33.33</td>\n",
       "    </tr>\n",
       "    <tr>\n",
       "      <th>12249</th>\n",
       "      <td>FAP410102603</td>\n",
       "      <td>25891103</td>\n",
       "      <td>0</td>\n",
       "      <td>83.33</td>\n",
       "    </tr>\n",
       "    <tr>\n",
       "      <th>12359</th>\n",
       "      <td>FAP410102603</td>\n",
       "      <td>25891402</td>\n",
       "      <td>1</td>\n",
       "      <td>83.33</td>\n",
       "    </tr>\n",
       "    <tr>\n",
       "      <th>12429</th>\n",
       "      <td>FAP410102603</td>\n",
       "      <td>25891303</td>\n",
       "      <td>1</td>\n",
       "      <td>83.33</td>\n",
       "    </tr>\n",
       "    <tr>\n",
       "      <th>12321</th>\n",
       "      <td>FAP410102603</td>\n",
       "      <td>25891602</td>\n",
       "      <td>1</td>\n",
       "      <td>83.33</td>\n",
       "    </tr>\n",
       "    <tr>\n",
       "      <th>12454</th>\n",
       "      <td>FAP410102603</td>\n",
       "      <td>25891603</td>\n",
       "      <td>1</td>\n",
       "      <td>83.33</td>\n",
       "    </tr>\n",
       "    <tr>\n",
       "      <th>12506</th>\n",
       "      <td>FAP410102603</td>\n",
       "      <td>25891502</td>\n",
       "      <td>1</td>\n",
       "      <td>83.33</td>\n",
       "    </tr>\n",
       "    <tr>\n",
       "      <th>11691</th>\n",
       "      <td>FAP410103601</td>\n",
       "      <td>25891303</td>\n",
       "      <td>0</td>\n",
       "      <td>0.00</td>\n",
       "    </tr>\n",
       "    <tr>\n",
       "      <th>11862</th>\n",
       "      <td>FAP410103601</td>\n",
       "      <td>25891601</td>\n",
       "      <td>0</td>\n",
       "      <td>0.00</td>\n",
       "    </tr>\n",
       "  </tbody>\n",
       "</table>\n",
       "</div>"
      ],
      "text/plain": [
       "           order_id  product_id  in_full  line_fill_rate_pct\n",
       "11987  FAP410101302    25891103        1               66.67\n",
       "12128  FAP410101302    25891203        1               66.67\n",
       "12141  FAP410101302    25891302        0               66.67\n",
       "11665  FAP410101402    25891201        1               66.67\n",
       "11648  FAP410101402    25891402        0               66.67\n",
       "11630  FAP410101402    25891101        1               66.67\n",
       "12332  FAP410101502    25891501        1              100.00\n",
       "12397  FAP410101502    25891502        1              100.00\n",
       "12421  FAP410101502    25891303        1              100.00\n",
       "11908  FAP410102503    25891202        0               33.33\n",
       "12053  FAP410102503    25891503        0               33.33\n",
       "12121  FAP410102503    25891203        1               33.33\n",
       "12249  FAP410102603    25891103        0               83.33\n",
       "12359  FAP410102603    25891402        1               83.33\n",
       "12429  FAP410102603    25891303        1               83.33\n",
       "12321  FAP410102603    25891602        1               83.33\n",
       "12454  FAP410102603    25891603        1               83.33\n",
       "12506  FAP410102603    25891502        1               83.33\n",
       "11691  FAP410103601    25891303        0                0.00\n",
       "11862  FAP410103601    25891601        0                0.00"
      ]
     },
     "execution_count": 25,
     "metadata": {},
     "output_type": "execute_result"
    }
   ],
   "source": [
    "# Check line_fill_rate_pct\n",
    "\n",
    "order_lines[order_lines['order_id'].duplicated(keep=False)].sort_values('order_id')[['order_id', 'product_id', 'in_full', 'line_fill_rate_pct']].head(20)"
   ]
  },
  {
   "cell_type": "markdown",
   "metadata": {},
   "source": [
    "#### Volume fill rate"
   ]
  },
  {
   "cell_type": "code",
   "execution_count": 26,
   "metadata": {},
   "outputs": [],
   "source": [
    "# Create volume_fill_rate_pct column\n",
    "\n",
    "order_lines['volume_fill_rate_pct'] = round(order_lines.groupby('order_id')['delivery_qty'].transform('sum') / order_lines.groupby('order_id')['order_qty'].transform('sum') * 100, 2)"
   ]
  },
  {
   "cell_type": "code",
   "execution_count": 27,
   "metadata": {},
   "outputs": [
    {
     "data": {
      "text/html": [
       "<div>\n",
       "<style scoped>\n",
       "    .dataframe tbody tr th:only-of-type {\n",
       "        vertical-align: middle;\n",
       "    }\n",
       "\n",
       "    .dataframe tbody tr th {\n",
       "        vertical-align: top;\n",
       "    }\n",
       "\n",
       "    .dataframe thead th {\n",
       "        text-align: right;\n",
       "    }\n",
       "</style>\n",
       "<table border=\"1\" class=\"dataframe\">\n",
       "  <thead>\n",
       "    <tr style=\"text-align: right;\">\n",
       "      <th></th>\n",
       "      <th>order_id</th>\n",
       "      <th>product_id</th>\n",
       "      <th>order_qty</th>\n",
       "      <th>delivery_qty</th>\n",
       "      <th>volume_fill_rate_pct</th>\n",
       "    </tr>\n",
       "  </thead>\n",
       "  <tbody>\n",
       "    <tr>\n",
       "      <th>11987</th>\n",
       "      <td>FAP410101302</td>\n",
       "      <td>25891103</td>\n",
       "      <td>493</td>\n",
       "      <td>493</td>\n",
       "      <td>99.78</td>\n",
       "    </tr>\n",
       "    <tr>\n",
       "      <th>12128</th>\n",
       "      <td>FAP410101302</td>\n",
       "      <td>25891203</td>\n",
       "      <td>374</td>\n",
       "      <td>374</td>\n",
       "      <td>99.78</td>\n",
       "    </tr>\n",
       "    <tr>\n",
       "      <th>12141</th>\n",
       "      <td>FAP410101302</td>\n",
       "      <td>25891302</td>\n",
       "      <td>46</td>\n",
       "      <td>44</td>\n",
       "      <td>99.78</td>\n",
       "    </tr>\n",
       "    <tr>\n",
       "      <th>11665</th>\n",
       "      <td>FAP410101402</td>\n",
       "      <td>25891201</td>\n",
       "      <td>442</td>\n",
       "      <td>442</td>\n",
       "      <td>94.30</td>\n",
       "    </tr>\n",
       "    <tr>\n",
       "      <th>11648</th>\n",
       "      <td>FAP410101402</td>\n",
       "      <td>25891402</td>\n",
       "      <td>299</td>\n",
       "      <td>239</td>\n",
       "      <td>94.30</td>\n",
       "    </tr>\n",
       "    <tr>\n",
       "      <th>11630</th>\n",
       "      <td>FAP410101402</td>\n",
       "      <td>25891101</td>\n",
       "      <td>311</td>\n",
       "      <td>311</td>\n",
       "      <td>94.30</td>\n",
       "    </tr>\n",
       "    <tr>\n",
       "      <th>12332</th>\n",
       "      <td>FAP410101502</td>\n",
       "      <td>25891501</td>\n",
       "      <td>123</td>\n",
       "      <td>123</td>\n",
       "      <td>100.00</td>\n",
       "    </tr>\n",
       "    <tr>\n",
       "      <th>12397</th>\n",
       "      <td>FAP410101502</td>\n",
       "      <td>25891502</td>\n",
       "      <td>142</td>\n",
       "      <td>142</td>\n",
       "      <td>100.00</td>\n",
       "    </tr>\n",
       "    <tr>\n",
       "      <th>12421</th>\n",
       "      <td>FAP410101502</td>\n",
       "      <td>25891303</td>\n",
       "      <td>23</td>\n",
       "      <td>23</td>\n",
       "      <td>100.00</td>\n",
       "    </tr>\n",
       "    <tr>\n",
       "      <th>11908</th>\n",
       "      <td>FAP410102503</td>\n",
       "      <td>25891202</td>\n",
       "      <td>253</td>\n",
       "      <td>228</td>\n",
       "      <td>89.26</td>\n",
       "    </tr>\n",
       "    <tr>\n",
       "      <th>12053</th>\n",
       "      <td>FAP410102503</td>\n",
       "      <td>25891503</td>\n",
       "      <td>167</td>\n",
       "      <td>134</td>\n",
       "      <td>89.26</td>\n",
       "    </tr>\n",
       "    <tr>\n",
       "      <th>12121</th>\n",
       "      <td>FAP410102503</td>\n",
       "      <td>25891203</td>\n",
       "      <td>120</td>\n",
       "      <td>120</td>\n",
       "      <td>89.26</td>\n",
       "    </tr>\n",
       "    <tr>\n",
       "      <th>12249</th>\n",
       "      <td>FAP410102603</td>\n",
       "      <td>25891103</td>\n",
       "      <td>316</td>\n",
       "      <td>253</td>\n",
       "      <td>93.71</td>\n",
       "    </tr>\n",
       "    <tr>\n",
       "      <th>12359</th>\n",
       "      <td>FAP410102603</td>\n",
       "      <td>25891402</td>\n",
       "      <td>228</td>\n",
       "      <td>228</td>\n",
       "      <td>93.71</td>\n",
       "    </tr>\n",
       "    <tr>\n",
       "      <th>12429</th>\n",
       "      <td>FAP410102603</td>\n",
       "      <td>25891303</td>\n",
       "      <td>20</td>\n",
       "      <td>20</td>\n",
       "      <td>93.71</td>\n",
       "    </tr>\n",
       "    <tr>\n",
       "      <th>12321</th>\n",
       "      <td>FAP410102603</td>\n",
       "      <td>25891602</td>\n",
       "      <td>67</td>\n",
       "      <td>67</td>\n",
       "      <td>93.71</td>\n",
       "    </tr>\n",
       "    <tr>\n",
       "      <th>12454</th>\n",
       "      <td>FAP410102603</td>\n",
       "      <td>25891603</td>\n",
       "      <td>145</td>\n",
       "      <td>145</td>\n",
       "      <td>93.71</td>\n",
       "    </tr>\n",
       "    <tr>\n",
       "      <th>12506</th>\n",
       "      <td>FAP410102603</td>\n",
       "      <td>25891502</td>\n",
       "      <td>226</td>\n",
       "      <td>226</td>\n",
       "      <td>93.71</td>\n",
       "    </tr>\n",
       "    <tr>\n",
       "      <th>11691</th>\n",
       "      <td>FAP410103601</td>\n",
       "      <td>25891303</td>\n",
       "      <td>58</td>\n",
       "      <td>46</td>\n",
       "      <td>92.72</td>\n",
       "    </tr>\n",
       "    <tr>\n",
       "      <th>11862</th>\n",
       "      <td>FAP410103601</td>\n",
       "      <td>25891601</td>\n",
       "      <td>197</td>\n",
       "      <td>187</td>\n",
       "      <td>92.72</td>\n",
       "    </tr>\n",
       "  </tbody>\n",
       "</table>\n",
       "</div>"
      ],
      "text/plain": [
       "           order_id  product_id  order_qty  delivery_qty  volume_fill_rate_pct\n",
       "11987  FAP410101302    25891103        493           493                 99.78\n",
       "12128  FAP410101302    25891203        374           374                 99.78\n",
       "12141  FAP410101302    25891302         46            44                 99.78\n",
       "11665  FAP410101402    25891201        442           442                 94.30\n",
       "11648  FAP410101402    25891402        299           239                 94.30\n",
       "11630  FAP410101402    25891101        311           311                 94.30\n",
       "12332  FAP410101502    25891501        123           123                100.00\n",
       "12397  FAP410101502    25891502        142           142                100.00\n",
       "12421  FAP410101502    25891303         23            23                100.00\n",
       "11908  FAP410102503    25891202        253           228                 89.26\n",
       "12053  FAP410102503    25891503        167           134                 89.26\n",
       "12121  FAP410102503    25891203        120           120                 89.26\n",
       "12249  FAP410102603    25891103        316           253                 93.71\n",
       "12359  FAP410102603    25891402        228           228                 93.71\n",
       "12429  FAP410102603    25891303         20            20                 93.71\n",
       "12321  FAP410102603    25891602         67            67                 93.71\n",
       "12454  FAP410102603    25891603        145           145                 93.71\n",
       "12506  FAP410102603    25891502        226           226                 93.71\n",
       "11691  FAP410103601    25891303         58            46                 92.72\n",
       "11862  FAP410103601    25891601        197           187                 92.72"
      ]
     },
     "execution_count": 27,
     "metadata": {},
     "output_type": "execute_result"
    }
   ],
   "source": [
    "# Check volume_fill_rate_pct\n",
    "\n",
    "order_lines[order_lines['order_id'].duplicated(keep=False)].sort_values('order_id')[['order_id', 'product_id', 'order_qty', 'delivery_qty', 'volume_fill_rate_pct']].head(20)"
   ]
  },
  {
   "cell_type": "markdown",
   "metadata": {},
   "source": [
    "## Save prepared data"
   ]
  },
  {
   "cell_type": "code",
   "execution_count": null,
   "metadata": {},
   "outputs": [],
   "source": [
    "# Save prepared data to parquet and csv files\n",
    "\n",
    "# Define dataframes and dataframe names\n",
    "dataframes = [customers, dates_2022, products, target_orders, order_lines, orders_aggregate]\n",
    "dataframe_names = ['customers', 'dates_2022', 'products', 'target_orders', 'order_lines', 'orders_aggregate']\n",
    "\n",
    "# Parquet\n",
    "# Iterate over dataframes and names\n",
    "for dataframe, name in zip(dataframes, dataframe_names):\n",
    "\n",
    "    # Create file paths\n",
    "    file_path = os.path.join(optimizingdelivery_data_dir, f\"{name}.parquet\")\n",
    "    \n",
    "    # Save the dataframes\n",
    "    dataframe.to_parquet(file_path)\n",
    "\n",
    "# CSV\n",
    "# Iterate over dataframes and names\n",
    "for dataframe, name in zip(dataframes, dataframe_names):\n",
    "\n",
    "    # Create file paths\n",
    "    file_path = os.path.join(optimizingdelivery_data_dir, f\"{name}.csv\")\n",
    "    \n",
    "    # Save the dataframes\n",
    "    dataframe.to_csv(file_path)"
   ]
  }
 ],
 "metadata": {
  "kernelspec": {
   "display_name": "base",
   "language": "python",
   "name": "python3"
  },
  "language_info": {
   "codemirror_mode": {
    "name": "ipython",
    "version": 3
   },
   "file_extension": ".py",
   "mimetype": "text/x-python",
   "name": "python",
   "nbconvert_exporter": "python",
   "pygments_lexer": "ipython3",
   "version": "3.11.8"
  }
 },
 "nbformat": 4,
 "nbformat_minor": 2
}
