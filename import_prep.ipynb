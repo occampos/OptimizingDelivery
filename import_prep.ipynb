{
 "cells": [
  {
   "cell_type": "markdown",
   "metadata": {},
   "source": [
    "# OptimizingDelivery Import and Preparation "
   ]
  },
  {
   "cell_type": "markdown",
   "metadata": {},
   "source": [
    "## Import libraries"
   ]
  },
  {
   "cell_type": "code",
   "execution_count": 1,
   "metadata": {},
   "outputs": [],
   "source": [
    "import os \n",
    "import pandas as pd"
   ]
  },
  {
   "cell_type": "markdown",
   "metadata": {},
   "source": [
    "## Import data"
   ]
  },
  {
   "cell_type": "code",
   "execution_count": 2,
   "metadata": {},
   "outputs": [],
   "source": [
    "%store -r optimizingdelivery_source_dir\n",
    "%store -r optimizingdelivery_data_dir"
   ]
  },
  {
   "cell_type": "code",
   "execution_count": 3,
   "metadata": {},
   "outputs": [],
   "source": [
    "# Define the list of file names\n",
    "file_names = ['dim_customers.csv', \n",
    "              'dim_date.csv', \n",
    "              'dim_products.csv', \n",
    "              'dim_targets_orders.csv', \n",
    "              'fact_order_lines.csv', \n",
    "              'fact_orders_aggregate.csv']\n",
    "\n",
    "# Read each CSV file into a pandas DataFrame\n",
    "og_dataframes = [pd.read_csv(os.path.join(optimizingdelivery_source_dir, file)) for file in file_names]\n",
    "\n",
    "# Unpack the list of DataFrames into individual variables\n",
    "customers, date, products, target_orders, order_lines, orders_aggregate = og_dataframes"
   ]
  },
  {
   "cell_type": "code",
   "execution_count": 4,
   "metadata": {},
   "outputs": [
    {
     "name": "stdout",
     "output_type": "stream",
     "text": [
      "(35, 3)\n",
      "(183, 3)\n",
      "(18, 3)\n",
      "(35, 4)\n",
      "(57096, 11)\n",
      "(31729, 6)\n"
     ]
    }
   ],
   "source": [
    "print(customers.shape)\n",
    "print(date.shape)\n",
    "print(products.shape)\n",
    "print(target_orders.shape)\n",
    "print(order_lines.shape)\n",
    "print(orders_aggregate.shape)"
   ]
  },
  {
   "cell_type": "markdown",
   "metadata": {},
   "source": [
    "## Prepare data"
   ]
  },
  {
   "cell_type": "markdown",
   "metadata": {},
   "source": [
    "### Duplicates and nans"
   ]
  },
  {
   "cell_type": "code",
   "execution_count": 5,
   "metadata": {},
   "outputs": [],
   "source": [
    "# Define dataframes and dataframe names\n",
    "dataframes = [customers, date, products, target_orders, order_lines, orders_aggregate]\n",
    "dataframe_names = ['customers', 'date', 'products', 'target_orders', 'order_lines', 'orders_aggregate']"
   ]
  },
  {
   "cell_type": "code",
   "execution_count": 6,
   "metadata": {},
   "outputs": [],
   "source": [
    "## Check dataframes for duplicate rows\n",
    "\n",
    "# Create list to store duplicate rows\n",
    "all_duplicate_rows = []\n",
    "\n",
    "# Loop through each dataframe and pair dataframes with dataframe names\n",
    "for df_name, df in zip(dataframe_names, dataframes):\n",
    "\n",
    "    # Find duplicate rows in the current dataframe\n",
    "    duplicates = df[df.duplicated()]\n",
    "    \n",
    "    # Append the duplicates to the list\n",
    "    if not duplicates.empty:\n",
    "        all_duplicate_rows.append((df_name, duplicates))\n",
    "\n",
    "# Output the duplicate rows for each dataframe\n",
    "for df_name, duplicates in all_duplicate_rows:\n",
    "\n",
    "    print(f\"Duplicate rows in {df_name}:\")\n",
    "    print(duplicates)"
   ]
  },
  {
   "cell_type": "code",
   "execution_count": 7,
   "metadata": {},
   "outputs": [],
   "source": [
    "## Check dataframes for nan rows\n",
    "\n",
    "# Create list to store nan rows\n",
    "all_nan_rows = []\n",
    "\n",
    "# Loop through each dataframe\n",
    "for df_name, df in zip(dataframe_names, dataframes):\n",
    "\n",
    "    # Find rows with NaN values in the current dataframe\n",
    "    nan_rows = df[df.isnull().any(axis=1)]\n",
    "    \n",
    "    # Append the rows with NaN values to the list\n",
    "    if not nan_rows.empty:\n",
    "        all_nan_rows.append((df_name, nan_rows))\n",
    "\n",
    "# Output the rows with NaN values for each dataframe\n",
    "for df_name, nan_rows in all_nan_rows:\n",
    "\n",
    "    print(f\"Rows with NaN values in {df_name}:\")\n",
    "    print(nan_rows)"
   ]
  },
  {
   "cell_type": "markdown",
   "metadata": {},
   "source": [
    "### Refine datatypes"
   ]
  },
  {
   "cell_type": "code",
   "execution_count": 8,
   "metadata": {},
   "outputs": [
    {
     "data": {
      "text/plain": [
       "['customers',\n",
       " 'date',\n",
       " 'products',\n",
       " 'target_orders',\n",
       " 'order_lines',\n",
       " 'orders_aggregate']"
      ]
     },
     "execution_count": 8,
     "metadata": {},
     "output_type": "execute_result"
    }
   ],
   "source": [
    "dataframe_names"
   ]
  },
  {
   "cell_type": "code",
   "execution_count": 9,
   "metadata": {},
   "outputs": [
    {
     "data": {
      "text/plain": [
       "customer_id       int64\n",
       "customer_name    object\n",
       "city             object\n",
       "dtype: object"
      ]
     },
     "execution_count": 9,
     "metadata": {},
     "output_type": "execute_result"
    }
   ],
   "source": [
    "customers.dtypes"
   ]
  },
  {
   "cell_type": "code",
   "execution_count": 10,
   "metadata": {},
   "outputs": [
    {
     "data": {
      "text/plain": [
       "date       object\n",
       "mmm_yy     object\n",
       "week_no    object\n",
       "dtype: object"
      ]
     },
     "execution_count": 10,
     "metadata": {},
     "output_type": "execute_result"
    }
   ],
   "source": [
    "date.dtypes"
   ]
  },
  {
   "cell_type": "code",
   "execution_count": 11,
   "metadata": {},
   "outputs": [],
   "source": [
    "# Change datatypes\n",
    "date['date'] = pd.to_datetime(date['date'], format='%d-%b-%y')\n",
    "\n",
    "date['month'] = date['date'].dt.month.astype('int64')\n",
    "date['year'] = date['date'].dt.year.astype('int64')\n",
    "date['week_number'] = date['week_no'].str.extract(r'(\\d+)').astype('int64')\n",
    "\n",
    "# Sort dataframe by date increasing\n",
    "date = date.sort_values('date').reset_index(drop=True)\n",
    "\n",
    "# Drop redundant columns\n",
    "date = date.drop(['mmm_yy', 'week_no'], axis=1)"
   ]
  },
  {
   "cell_type": "code",
   "execution_count": 12,
   "metadata": {},
   "outputs": [
    {
     "data": {
      "text/plain": [
       "date           datetime64[ns]\n",
       "month                   int64\n",
       "year                    int64\n",
       "week_number             int64\n",
       "dtype: object"
      ]
     },
     "execution_count": 12,
     "metadata": {},
     "output_type": "execute_result"
    }
   ],
   "source": [
    "date.dtypes"
   ]
  },
  {
   "cell_type": "code",
   "execution_count": 13,
   "metadata": {},
   "outputs": [
    {
     "data": {
      "text/plain": [
       "product_name    object\n",
       "product_id       int64\n",
       "category        object\n",
       "dtype: object"
      ]
     },
     "execution_count": 13,
     "metadata": {},
     "output_type": "execute_result"
    }
   ],
   "source": [
    "products.dtypes"
   ]
  },
  {
   "cell_type": "code",
   "execution_count": 14,
   "metadata": {},
   "outputs": [
    {
     "data": {
      "text/plain": [
       "customer_id       int64\n",
       "ontime_target%    int64\n",
       "infull_target%    int64\n",
       "otif_target%      int64\n",
       "dtype: object"
      ]
     },
     "execution_count": 14,
     "metadata": {},
     "output_type": "execute_result"
    }
   ],
   "source": [
    "target_orders.dtypes"
   ]
  },
  {
   "cell_type": "code",
   "execution_count": 15,
   "metadata": {},
   "outputs": [
    {
     "data": {
      "text/plain": [
       "order_id                object\n",
       "order_placement_date    object\n",
       "customer_id              int64\n",
       "product_id               int64\n",
       "order_qty                int64\n",
       "agreed_delivery_date    object\n",
       "actual_delivery_date    object\n",
       "delivery_qty             int64\n",
       "In Full                  int64\n",
       "On Time                  int64\n",
       "On Time In Full          int64\n",
       "dtype: object"
      ]
     },
     "execution_count": 15,
     "metadata": {},
     "output_type": "execute_result"
    }
   ],
   "source": [
    "order_lines.dtypes"
   ]
  },
  {
   "cell_type": "code",
   "execution_count": 16,
   "metadata": {},
   "outputs": [],
   "source": [
    "# Change datatypes\n",
    "order_lines['order_placement_date'] = pd.to_datetime(order_lines['order_placement_date'], format='%A, %B %d, %Y')\n",
    "order_lines['agreed_delivery_date'] = pd.to_datetime(order_lines['agreed_delivery_date'], format='%A, %B %d, %Y')\n",
    "order_lines['actual_delivery_date'] = pd.to_datetime(order_lines['actual_delivery_date'], format='%A, %B %d, %Y')\n",
    "\n",
    "order_lines['order_placement_day'] = order_lines['order_placement_date'].dt.day_name()\n",
    "order_lines['agreed_delivery_day'] = order_lines['agreed_delivery_date'].dt.day_name()\n",
    "order_lines['actual_delivery_day'] = order_lines['actual_delivery_date'].dt.day_name()\n",
    "\n",
    "# Sort dataframe by date increasing\n",
    "order_lines = order_lines.sort_values('order_placement_date').reset_index(drop=True)\n",
    "\n",
    "# Reorder columns\n",
    "order_lines = order_lines[['order_id', 'order_placement_date', 'order_placement_day', 'customer_id', 'product_id',\n",
    "       'order_qty', 'agreed_delivery_date', 'agreed_delivery_day', 'actual_delivery_date', 'actual_delivery_day',\n",
    "       'delivery_qty', 'In Full', 'On Time', 'On Time In Full']].copy()"
   ]
  },
  {
   "cell_type": "code",
   "execution_count": 17,
   "metadata": {},
   "outputs": [
    {
     "data": {
      "text/plain": [
       "order_id                        object\n",
       "order_placement_date    datetime64[ns]\n",
       "order_placement_day             object\n",
       "customer_id                      int64\n",
       "product_id                       int64\n",
       "order_qty                        int64\n",
       "agreed_delivery_date    datetime64[ns]\n",
       "agreed_delivery_day             object\n",
       "actual_delivery_date    datetime64[ns]\n",
       "actual_delivery_day             object\n",
       "delivery_qty                     int64\n",
       "In Full                          int64\n",
       "On Time                          int64\n",
       "On Time In Full                  int64\n",
       "dtype: object"
      ]
     },
     "execution_count": 17,
     "metadata": {},
     "output_type": "execute_result"
    }
   ],
   "source": [
    "order_lines.dtypes"
   ]
  },
  {
   "cell_type": "code",
   "execution_count": 18,
   "metadata": {},
   "outputs": [
    {
     "data": {
      "text/plain": [
       "order_id                object\n",
       "customer_id              int64\n",
       "order_placement_date    object\n",
       "on_time                  int64\n",
       "in_full                  int64\n",
       "otif                     int64\n",
       "dtype: object"
      ]
     },
     "execution_count": 18,
     "metadata": {},
     "output_type": "execute_result"
    }
   ],
   "source": [
    "orders_aggregate.dtypes"
   ]
  },
  {
   "cell_type": "code",
   "execution_count": 19,
   "metadata": {},
   "outputs": [],
   "source": [
    "orders_aggregate['order_placement_date'] = pd.to_datetime(orders_aggregate['order_placement_date'], format='%d-%b-%y')\n"
   ]
  },
  {
   "cell_type": "code",
   "execution_count": 20,
   "metadata": {},
   "outputs": [
    {
     "data": {
      "text/plain": [
       "order_id                        object\n",
       "customer_id                      int64\n",
       "order_placement_date    datetime64[ns]\n",
       "on_time                          int64\n",
       "in_full                          int64\n",
       "otif                             int64\n",
       "dtype: object"
      ]
     },
     "execution_count": 20,
     "metadata": {},
     "output_type": "execute_result"
    }
   ],
   "source": [
    "orders_aggregate.dtypes"
   ]
  },
  {
   "cell_type": "markdown",
   "metadata": {},
   "source": [
    "### Save prepared data"
   ]
  },
  {
   "cell_type": "code",
   "execution_count": 21,
   "metadata": {},
   "outputs": [],
   "source": [
    "# Save prepared data to parquet files\n",
    "\n",
    "# Iterate over dataframes and names\n",
    "for dataframe, name in zip(dataframes, dataframe_names):\n",
    "\n",
    "    # Create file paths\n",
    "    file_path = os.path.join(optimizingdelivery_data_dir, f\"{name}.parquet\")\n",
    "    \n",
    "    # Save the dataframes\n",
    "    dataframe.to_parquet(file_path)"
   ]
  }
 ],
 "metadata": {
  "kernelspec": {
   "display_name": "base",
   "language": "python",
   "name": "python3"
  },
  "language_info": {
   "codemirror_mode": {
    "name": "ipython",
    "version": 3
   },
   "file_extension": ".py",
   "mimetype": "text/x-python",
   "name": "python",
   "nbconvert_exporter": "python",
   "pygments_lexer": "ipython3",
   "version": "3.11.8"
  }
 },
 "nbformat": 4,
 "nbformat_minor": 2
}
