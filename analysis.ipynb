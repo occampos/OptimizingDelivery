{
 "cells": [
  {
   "cell_type": "markdown",
   "metadata": {},
   "source": [
    "# OptimizingDelivery Analysis"
   ]
  },
  {
   "cell_type": "markdown",
   "metadata": {},
   "source": [
    "## Import libraries"
   ]
  },
  {
   "cell_type": "code",
   "execution_count": 1,
   "metadata": {},
   "outputs": [],
   "source": [
    "import os \n",
    "import pandas as pd\n",
    "import numpy as np\n",
    "\n",
    "from sklearn.ensemble import RandomForestClassifier\n",
    "from sklearn.multioutput import MultiOutputClassifier\n",
    "from sklearn.model_selection import train_test_split\n",
    "from sklearn.model_selection import GridSearchCV\n",
    "from sklearn.metrics import accuracy_score\n"
   ]
  },
  {
   "cell_type": "markdown",
   "metadata": {},
   "source": [
    "## Import Data"
   ]
  },
  {
   "cell_type": "code",
   "execution_count": 2,
   "metadata": {},
   "outputs": [],
   "source": [
    "%store -r optimizingdelivery_data_dir"
   ]
  },
  {
   "cell_type": "code",
   "execution_count": 3,
   "metadata": {},
   "outputs": [],
   "source": [
    "# Define dataframes and dataframe names\n",
    "dataframe_names = ['customers', 'dates_2022', 'products', 'target_orders', 'order_lines', 'orders_aggregate']"
   ]
  },
  {
   "cell_type": "code",
   "execution_count": 4,
   "metadata": {},
   "outputs": [],
   "source": [
    "# Reset dataframes\n",
    "def reset_dataframes():\n",
    "\n",
    "    # Read parquet and overwrite local instance, effectively resetting the dataframes\n",
    "    for name in dataframe_names:\n",
    "\n",
    "        file_path = os.path.join(optimizingdelivery_data_dir, f\"{name}.parquet\")\n",
    "\n",
    "        globals()[name] = pd.read_parquet(file_path)"
   ]
  },
  {
   "cell_type": "code",
   "execution_count": 5,
   "metadata": {},
   "outputs": [],
   "source": [
    "reset_dataframes()"
   ]
  },
  {
   "cell_type": "code",
   "execution_count": 6,
   "metadata": {},
   "outputs": [
    {
     "name": "stdout",
     "output_type": "stream",
     "text": [
      "(35, 3)\n",
      "(365, 4)\n",
      "(18, 3)\n",
      "(35, 4)\n",
      "(57096, 11)\n",
      "(31729, 6)\n"
     ]
    }
   ],
   "source": [
    "print(customers.shape)\n",
    "print(dates_2022.shape)\n",
    "print(products.shape)\n",
    "print(target_orders.shape)\n",
    "print(order_lines.shape)\n",
    "print(orders_aggregate.shape)"
   ]
  },
  {
   "cell_type": "markdown",
   "metadata": {},
   "source": [
    "## Analysis"
   ]
  },
  {
   "cell_type": "code",
   "execution_count": 7,
   "metadata": {},
   "outputs": [
    {
     "data": {
      "text/plain": [
       "Index(['order_id', 'order_placement_date', 'customer_id', 'product_id',\n",
       "       'order_qty', 'agreed_delivery_date', 'actual_delivery_date',\n",
       "       'delivery_qty', 'in_full', 'on_time', 'on_time_in_full'],\n",
       "      dtype='object')"
      ]
     },
     "execution_count": 7,
     "metadata": {},
     "output_type": "execute_result"
    }
   ],
   "source": [
    "order_lines.columns"
   ]
  },
  {
   "cell_type": "code",
   "execution_count": 8,
   "metadata": {},
   "outputs": [
    {
     "name": "stdout",
     "output_type": "stream",
     "text": [
      "order_lines\n",
      "ot_perc: 71.11706599411517\n",
      "if_perc: 65.96083788706738\n",
      "otif_perc: 47.95432254448648\n"
     ]
    }
   ],
   "source": [
    "print('order_lines')\n",
    "print('ot_perc: ' + str((order_lines['on_time'].sum() / len(order_lines)) * 100))\n",
    "print('if_perc: ' + str((order_lines['in_full'].sum() / len(order_lines)) * 100))\n",
    "print('otif_perc: ' + str((order_lines['on_time_in_full'].sum() / len(order_lines)) * 100))\n"
   ]
  },
  {
   "cell_type": "code",
   "execution_count": 9,
   "metadata": {},
   "outputs": [
    {
     "name": "stdout",
     "output_type": "stream",
     "text": [
      "orders_aggregate\n",
      "ot_perc: 59.03117022282455\n",
      "if_perc: 52.78136720350468\n",
      "otif_perc: 29.020769642913425\n"
     ]
    }
   ],
   "source": [
    "print('orders_aggregate')\n",
    "print('ot_perc: ' + str((orders_aggregate['on_time'].sum() / len(orders_aggregate)) * 100))\n",
    "print('if_perc: ' + str((orders_aggregate['in_full'].sum() / len(orders_aggregate)) * 100))\n",
    "print('otif_perc: ' + str((orders_aggregate['otif'].sum() / len(orders_aggregate)) * 100))\n"
   ]
  },
  {
   "cell_type": "code",
   "execution_count": 10,
   "metadata": {},
   "outputs": [
    {
     "data": {
      "text/html": [
       "<div>\n",
       "<style scoped>\n",
       "    .dataframe tbody tr th:only-of-type {\n",
       "        vertical-align: middle;\n",
       "    }\n",
       "\n",
       "    .dataframe tbody tr th {\n",
       "        vertical-align: top;\n",
       "    }\n",
       "\n",
       "    .dataframe thead th {\n",
       "        text-align: right;\n",
       "    }\n",
       "</style>\n",
       "<table border=\"1\" class=\"dataframe\">\n",
       "  <thead>\n",
       "    <tr style=\"text-align: right;\">\n",
       "      <th></th>\n",
       "      <th>order_id</th>\n",
       "      <th>order_placement_date</th>\n",
       "      <th>customer_id</th>\n",
       "      <th>product_id</th>\n",
       "      <th>order_qty</th>\n",
       "      <th>agreed_delivery_date</th>\n",
       "      <th>actual_delivery_date</th>\n",
       "      <th>delivery_qty</th>\n",
       "      <th>in_full</th>\n",
       "      <th>on_time</th>\n",
       "      <th>on_time_in_full</th>\n",
       "    </tr>\n",
       "  </thead>\n",
       "  <tbody>\n",
       "    <tr>\n",
       "      <th>24311</th>\n",
       "      <td>FMY519721501</td>\n",
       "      <td>2022-05-17</td>\n",
       "      <td>789721</td>\n",
       "      <td>25891402</td>\n",
       "      <td>478</td>\n",
       "      <td>2022-05-19</td>\n",
       "      <td>2022-05-19</td>\n",
       "      <td>430</td>\n",
       "      <td>0</td>\n",
       "      <td>1</td>\n",
       "      <td>0</td>\n",
       "    </tr>\n",
       "    <tr>\n",
       "      <th>47277</th>\n",
       "      <td>FAUG81202502</td>\n",
       "      <td>2022-07-29</td>\n",
       "      <td>789202</td>\n",
       "      <td>25891402</td>\n",
       "      <td>460</td>\n",
       "      <td>2022-08-01</td>\n",
       "      <td>2022-08-01</td>\n",
       "      <td>460</td>\n",
       "      <td>1</td>\n",
       "      <td>1</td>\n",
       "      <td>1</td>\n",
       "    </tr>\n",
       "    <tr>\n",
       "      <th>1148</th>\n",
       "      <td>FMR36220601</td>\n",
       "      <td>2022-03-04</td>\n",
       "      <td>789220</td>\n",
       "      <td>25891302</td>\n",
       "      <td>84</td>\n",
       "      <td>2022-03-06</td>\n",
       "      <td>2022-03-06</td>\n",
       "      <td>67</td>\n",
       "      <td>0</td>\n",
       "      <td>1</td>\n",
       "      <td>0</td>\n",
       "    </tr>\n",
       "    <tr>\n",
       "      <th>32181</th>\n",
       "      <td>FJUN612703603</td>\n",
       "      <td>2022-06-11</td>\n",
       "      <td>789703</td>\n",
       "      <td>25891203</td>\n",
       "      <td>241</td>\n",
       "      <td>2022-06-12</td>\n",
       "      <td>2022-06-12</td>\n",
       "      <td>241</td>\n",
       "      <td>1</td>\n",
       "      <td>1</td>\n",
       "      <td>1</td>\n",
       "    </tr>\n",
       "    <tr>\n",
       "      <th>46181</th>\n",
       "      <td>FJUL728320501</td>\n",
       "      <td>2022-07-26</td>\n",
       "      <td>789320</td>\n",
       "      <td>25891102</td>\n",
       "      <td>447</td>\n",
       "      <td>2022-07-28</td>\n",
       "      <td>2022-07-28</td>\n",
       "      <td>447</td>\n",
       "      <td>1</td>\n",
       "      <td>1</td>\n",
       "      <td>1</td>\n",
       "    </tr>\n",
       "  </tbody>\n",
       "</table>\n",
       "</div>"
      ],
      "text/plain": [
       "            order_id order_placement_date  customer_id  product_id  order_qty  \\\n",
       "24311   FMY519721501           2022-05-17       789721    25891402        478   \n",
       "47277   FAUG81202502           2022-07-29       789202    25891402        460   \n",
       "1148     FMR36220601           2022-03-04       789220    25891302         84   \n",
       "32181  FJUN612703603           2022-06-11       789703    25891203        241   \n",
       "46181  FJUL728320501           2022-07-26       789320    25891102        447   \n",
       "\n",
       "      agreed_delivery_date actual_delivery_date  delivery_qty  in_full  \\\n",
       "24311           2022-05-19           2022-05-19           430        0   \n",
       "47277           2022-08-01           2022-08-01           460        1   \n",
       "1148            2022-03-06           2022-03-06            67        0   \n",
       "32181           2022-06-12           2022-06-12           241        1   \n",
       "46181           2022-07-28           2022-07-28           447        1   \n",
       "\n",
       "       on_time  on_time_in_full  \n",
       "24311        1                0  \n",
       "47277        1                1  \n",
       "1148         1                0  \n",
       "32181        1                1  \n",
       "46181        1                1  "
      ]
     },
     "execution_count": 10,
     "metadata": {},
     "output_type": "execute_result"
    }
   ],
   "source": [
    "order_lines.sample(5)"
   ]
  },
  {
   "cell_type": "code",
   "execution_count": 11,
   "metadata": {},
   "outputs": [],
   "source": [
    "# Calculate the mean percentages\n",
    "customer_split = order_lines.groupby('customer_id')[['in_full', 'on_time', 'on_time_in_full']].mean() * 100\n",
    "\n",
    "# Reset index to turn 'customer_id' into a regular column\n",
    "customer_split = customer_split.reset_index().rename(columns={'in_full': 'if_pct',\n",
    "                                                             'on_time': 'ot_pct', \n",
    "                                                             'on_time_in_full': 'otif_pct'})\n",
    "\n",
    "customer_split = customer_split.round(2)"
   ]
  },
  {
   "cell_type": "code",
   "execution_count": 12,
   "metadata": {},
   "outputs": [],
   "source": [
    "customer_split = pd.merge(customer_split, target_orders, how='left', on='customer_id')"
   ]
  },
  {
   "cell_type": "code",
   "execution_count": 13,
   "metadata": {},
   "outputs": [
    {
     "data": {
      "text/plain": [
       "Index(['customer_id', 'if_pct', 'ot_pct', 'otif_pct', 'ontime_target%',\n",
       "       'infull_target%', 'otif_target%'],\n",
       "      dtype='object')"
      ]
     },
     "execution_count": 13,
     "metadata": {},
     "output_type": "execute_result"
    }
   ],
   "source": [
    "customer_split.columns"
   ]
  },
  {
   "cell_type": "code",
   "execution_count": 14,
   "metadata": {},
   "outputs": [],
   "source": [
    "customer_split.rename(columns={ 'infull_target%': 'if_target_pct',\n",
    "                                'otif_target%': 'of_target_pct', \n",
    "                                'ontime_target%': 'otif_target_pct'}, inplace=True)"
   ]
  },
  {
   "cell_type": "code",
   "execution_count": 15,
   "metadata": {},
   "outputs": [
    {
     "data": {
      "text/plain": [
       "Index(['customer_id', 'if_pct', 'ot_pct', 'otif_pct', 'otif_target_pct',\n",
       "       'if_target_pct', 'of_target_pct'],\n",
       "      dtype='object')"
      ]
     },
     "execution_count": 15,
     "metadata": {},
     "output_type": "execute_result"
    }
   ],
   "source": [
    "customer_split.columns"
   ]
  },
  {
   "cell_type": "code",
   "execution_count": 16,
   "metadata": {},
   "outputs": [],
   "source": [
    "customer_split = customer_split[['customer_id', 'if_pct', 'if_target_pct', \n",
    "                                 'ot_pct', 'of_target_pct', \n",
    "                                 'otif_pct', 'otif_target_pct']]"
   ]
  },
  {
   "cell_type": "markdown",
   "metadata": {},
   "source": [
    "## Machine Learning Model"
   ]
  },
  {
   "cell_type": "markdown",
   "metadata": {},
   "source": [
    "##### Create Predictive Models:\n",
    "  \n",
    "Building predictive models to determine whether an order line meets targets like 'in_full', 'on_time', or 'otif' is a fundamental step. You can use various machine learning algorithms like logistic regression, random forests, or gradient boosting, depending on the complexity of your data and the desired accuracy of predictions.\n",
    "Ensure you have labeled data where each order line is marked as 'true' or 'false' for meeting the targets. Also, pay attention to feature engineering to extract relevant information from your dataset.\n",
    "  \n",
    "##### Identify Associated Variables:\n",
    "  \n",
    "Analyzing the importance of variables associated with failure for 'in_full', 'on_time', or 'otif' is crucial for understanding the root causes of delivery failures. You can use techniques like feature importance analysis from tree-based models or permutation importance to identify the most influential features.\n",
    "Understanding these variables can provide insights into areas of improvement in your production process. For example, if a specific product category or supplier consistently results in delivery failures, you can focus on improving those aspects.\n",
    "Predict Targets and Evaluate Model Performance:\n",
    "  \n",
    "After training your predictive models, assess their performance using appropriate evaluation metrics such as accuracy, precision, recall, F1-score, or area under the ROC curve (AUC). Ensure you use proper validation techniques like cross-validation to estimate the model's generalization performance.\n",
    "It's essential to have reliable models that accurately predict whether an order line meets the specified targets. These models will serve as the basis for making informed decisions and implementing improvements in your production process.\n",
    "  \n",
    "##### Extract Insights for Improvement:\n",
    "  \n",
    "Once you have reliable predictive models, leverage the insights gained from them to suggest improvements in your production process. For example, if certain factors consistently lead to delivery failures, you can take corrective actions such as optimizing inventory management, improving supplier relationships, enhancing transportation logistics, or refining order processing workflows.\n",
    "Continuously monitor the performance of your production process and iteratively refine your strategies based on the insights provided by the predictive models."
   ]
  },
  {
   "cell_type": "markdown",
   "metadata": {},
   "source": [
    "### Prepare model data"
   ]
  },
  {
   "cell_type": "markdown",
   "metadata": {},
   "source": [
    "#### Merge dataframes"
   ]
  },
  {
   "cell_type": "code",
   "execution_count": 17,
   "metadata": {},
   "outputs": [],
   "source": [
    "model_data = order_lines.copy()"
   ]
  },
  {
   "cell_type": "code",
   "execution_count": 18,
   "metadata": {},
   "outputs": [],
   "source": [
    "# Add as much quantifiable data into the data model."
   ]
  },
  {
   "cell_type": "code",
   "execution_count": 19,
   "metadata": {},
   "outputs": [],
   "source": [
    "# Merge date"
   ]
  },
  {
   "cell_type": "code",
   "execution_count": 20,
   "metadata": {},
   "outputs": [],
   "source": [
    "model_data = pd.merge(model_data, dates_2022, how='left', left_on='order_placement_date', right_on='date')\n",
    "\n",
    "model_data['order_placement_month'] = model_data['month'].astype('int64')\n",
    "model_data['order_placement_day'] = model_data['order_placement_date'].dt.day.astype('int64')\n",
    "model_data['order_placement_week_no'] = model_data['week_number'].astype('int64')\n",
    "\n",
    "model_data = model_data[['order_id', 'order_placement_date', 'order_placement_month', 'order_placement_day', 'order_placement_week_no', \n",
    "                        'customer_id', 'product_id','order_qty', 'agreed_delivery_date', 'actual_delivery_date',\n",
    "                        'delivery_qty', 'in_full', 'on_time', 'on_time_in_full']].copy()"
   ]
  },
  {
   "cell_type": "code",
   "execution_count": 21,
   "metadata": {},
   "outputs": [],
   "source": [
    "model_data = pd.merge(model_data, dates_2022, how='left', left_on='agreed_delivery_date', right_on='date')\n",
    "\n",
    "model_data['agreed_delivery_month'] = model_data['month'].astype('int64')\n",
    "model_data['agreed_delivery_day'] = model_data['agreed_delivery_date'].dt.day.astype('int64')\n",
    "model_data['agreed_delivery_week_no'] = model_data['week_number'].astype('int64')\n",
    "\n",
    "model_data = model_data[['order_id', 'order_placement_date', 'order_placement_month', 'order_placement_day', 'order_placement_week_no', \n",
    "                        'customer_id', 'product_id','order_qty', \n",
    "                        'agreed_delivery_date', 'agreed_delivery_month', 'agreed_delivery_day', 'agreed_delivery_week_no', \n",
    "                        'actual_delivery_date',\n",
    "                        'delivery_qty', 'in_full', 'on_time', 'on_time_in_full',]].copy()"
   ]
  },
  {
   "cell_type": "code",
   "execution_count": 22,
   "metadata": {},
   "outputs": [],
   "source": [
    "model_data = pd.merge(model_data, dates_2022, how='left', left_on='actual_delivery_date', right_on='date')\n",
    "\n",
    "model_data['actual_delivery_month'] = model_data['month'].astype('int64')\n",
    "model_data['actual_delivery_day'] = model_data['actual_delivery_date'].dt.day.astype('int64')\n",
    "model_data['actual_delivery_week_no'] = model_data['week_number'].astype('int64')\n",
    "\n",
    "model_data = model_data[['order_id', 'order_placement_date', 'order_placement_month', 'order_placement_day', 'order_placement_week_no', \n",
    "                        'customer_id', 'product_id','order_qty', \n",
    "                        'agreed_delivery_date', 'agreed_delivery_month', 'agreed_delivery_day', 'agreed_delivery_week_no', \n",
    "                        'actual_delivery_date', 'actual_delivery_month', 'actual_delivery_day', 'actual_delivery_week_no',\n",
    "                        'delivery_qty', 'in_full', 'on_time', 'on_time_in_full',]].copy()"
   ]
  },
  {
   "cell_type": "code",
   "execution_count": 23,
   "metadata": {},
   "outputs": [],
   "source": [
    "# Merge custopmer"
   ]
  },
  {
   "cell_type": "code",
   "execution_count": 24,
   "metadata": {},
   "outputs": [],
   "source": [
    "model_data = pd.merge(model_data, customers, how='left', on='customer_id')"
   ]
  },
  {
   "cell_type": "code",
   "execution_count": 25,
   "metadata": {},
   "outputs": [],
   "source": [
    "# Merge products"
   ]
  },
  {
   "cell_type": "code",
   "execution_count": 26,
   "metadata": {},
   "outputs": [],
   "source": [
    "model_data = pd.merge(model_data, products, how='left', on='product_id')"
   ]
  },
  {
   "cell_type": "markdown",
   "metadata": {},
   "source": [
    "#### Refine model data datatypes"
   ]
  },
  {
   "cell_type": "code",
   "execution_count": 27,
   "metadata": {},
   "outputs": [
    {
     "data": {
      "text/plain": [
       "order_id                           object\n",
       "order_placement_date       datetime64[ns]\n",
       "order_placement_month               int64\n",
       "order_placement_day                 int64\n",
       "order_placement_week_no             int64\n",
       "customer_id                         int64\n",
       "product_id                          int64\n",
       "order_qty                           int64\n",
       "agreed_delivery_date       datetime64[ns]\n",
       "agreed_delivery_month               int64\n",
       "agreed_delivery_day                 int64\n",
       "agreed_delivery_week_no             int64\n",
       "actual_delivery_date       datetime64[ns]\n",
       "actual_delivery_month               int64\n",
       "actual_delivery_day                 int64\n",
       "actual_delivery_week_no             int64\n",
       "delivery_qty                        int64\n",
       "in_full                             int64\n",
       "on_time                             int64\n",
       "on_time_in_full                     int64\n",
       "customer_name                      object\n",
       "city                               object\n",
       "product_name                       object\n",
       "category                           object\n",
       "dtype: object"
      ]
     },
     "execution_count": 27,
     "metadata": {},
     "output_type": "execute_result"
    }
   ],
   "source": [
    "model_data.dtypes"
   ]
  },
  {
   "cell_type": "code",
   "execution_count": 28,
   "metadata": {},
   "outputs": [],
   "source": [
    "model_data['order_code'] = model_data['order_id'].astype('category').cat.codes\n",
    "model_data['customer_name_code'] = model_data['customer_name'].astype('category').cat.codes\n",
    "model_data['city_code'] = model_data['city'].astype('category').cat.codes\n",
    "model_data['product_name_code'] = model_data['product_name'].astype('category').cat.codes\n",
    "model_data['category_code'] = model_data['category'].astype('category').cat.codes"
   ]
  },
  {
   "cell_type": "code",
   "execution_count": 29,
   "metadata": {},
   "outputs": [],
   "source": [
    "model_data = model_data[[   'order_id',\n",
    "                            'order_code',\n",
    "                            'order_placement_date',\n",
    "                            'order_placement_month',\n",
    "                            'order_placement_day',\n",
    "                            'order_placement_week_no',\n",
    "                            'customer_id',\n",
    "                            'customer_name',\n",
    "                            'customer_name_code',\n",
    "                            'city',\n",
    "                            'city_code',\n",
    "                            'product_id',\n",
    "                            'product_name',\n",
    "                            'product_name_code',\n",
    "                            'category',\n",
    "                            'category_code',\n",
    "                            'order_qty',\n",
    "                            'agreed_delivery_date',\n",
    "                            'agreed_delivery_month',\n",
    "                            'agreed_delivery_day',\n",
    "                            'agreed_delivery_week_no',\n",
    "                            'actual_delivery_date',\n",
    "                            'actual_delivery_month',\n",
    "                            'actual_delivery_day',\n",
    "                            'actual_delivery_week_no',\n",
    "                            'delivery_qty',\n",
    "                            'in_full',\n",
    "                            'on_time',\n",
    "                            'on_time_in_full']]"
   ]
  },
  {
   "cell_type": "code",
   "execution_count": 30,
   "metadata": {},
   "outputs": [
    {
     "data": {
      "text/plain": [
       "(57096, 29)"
      ]
     },
     "execution_count": 30,
     "metadata": {},
     "output_type": "execute_result"
    }
   ],
   "source": [
    "model_data.shape"
   ]
  },
  {
   "cell_type": "markdown",
   "metadata": {},
   "source": [
    "### Multi-Output Random Forest Classifier"
   ]
  },
  {
   "cell_type": "code",
   "execution_count": 31,
   "metadata": {},
   "outputs": [
    {
     "data": {
      "text/plain": [
       "['order_id',\n",
       " 'order_code',\n",
       " 'order_placement_date',\n",
       " 'order_placement_month',\n",
       " 'order_placement_day',\n",
       " 'order_placement_week_no',\n",
       " 'customer_id',\n",
       " 'customer_name',\n",
       " 'customer_name_code',\n",
       " 'city',\n",
       " 'city_code',\n",
       " 'product_id',\n",
       " 'product_name',\n",
       " 'product_name_code',\n",
       " 'category',\n",
       " 'category_code',\n",
       " 'order_qty',\n",
       " 'agreed_delivery_date',\n",
       " 'agreed_delivery_month',\n",
       " 'agreed_delivery_day',\n",
       " 'agreed_delivery_week_no',\n",
       " 'actual_delivery_date',\n",
       " 'actual_delivery_month',\n",
       " 'actual_delivery_day',\n",
       " 'actual_delivery_week_no',\n",
       " 'delivery_qty',\n",
       " 'in_full',\n",
       " 'on_time',\n",
       " 'on_time_in_full']"
      ]
     },
     "execution_count": 31,
     "metadata": {},
     "output_type": "execute_result"
    }
   ],
   "source": [
    "list(model_data.columns)"
   ]
  },
  {
   "cell_type": "code",
   "execution_count": 32,
   "metadata": {},
   "outputs": [],
   "source": [
    "# Define features and targets\n",
    "features = ['order_code',\n",
    "            'order_placement_month',\n",
    "            'order_placement_day',\n",
    "            'order_placement_week_no',\n",
    "            'customer_id',\n",
    "            'customer_name_code',\n",
    "            'city_code',\n",
    "            'product_id',\n",
    "            'product_name_code',\n",
    "            'category_code',\n",
    "            'order_qty',\n",
    "            'agreed_delivery_month',\n",
    "            'agreed_delivery_day',\n",
    "            'agreed_delivery_week_no',\n",
    "            'actual_delivery_month',\n",
    "            'actual_delivery_day',\n",
    "            'actual_delivery_week_no']\n",
    "targets = ['on_time', 'in_full']\n",
    "\n",
    "# Define train test split\n",
    "X_train, X_test, y_train, y_test = train_test_split(model_data[features], model_data[targets], test_size=0.2, random_state=9)\n",
    "\n",
    "# Define random forest classifier model, wrap in multi output classifier\n",
    "random_forest = RandomForestClassifier(n_estimators=100, random_state=9)\n",
    "multi_output = MultiOutputClassifier(random_forest, n_jobs=-1)\n",
    "\n",
    "# Fit model\n",
    "multi_output.fit(X_train, y_train)\n",
    "\n",
    "# Predict\n",
    "y_pred = multi_output.predict(X_test)"
   ]
  },
  {
   "cell_type": "code",
   "execution_count": 33,
   "metadata": {},
   "outputs": [
    {
     "name": "stdout",
     "output_type": "stream",
     "text": [
      "Accuracy: 0.6199649737302977\n",
      "Hamming Loss: 0.20722416812609457\n",
      "Precision: 0.8106465174411999\n",
      "Recall: 0.9106516050800945\n",
      "F1-score: 0.857743981244928\n",
      "Jaccard Similarity Score: 0.7509209556888748\n",
      "Zero-One Loss: 0.3800350262697023\n",
      "Coverage Error: 1.615586690017513\n",
      "Average Precision Score: 0.7995125242394017\n"
     ]
    }
   ],
   "source": [
    "from sklearn.metrics import accuracy_score, hamming_loss, precision_score, recall_score, f1_score\n",
    "from sklearn.metrics import jaccard_score, zero_one_loss, coverage_error, average_precision_score\n",
    "\n",
    "# Assuming y_pred and y_test are defined after making predictions\n",
    "# y_pred = multi_output_classifier.predict(X_test)\n",
    "\n",
    "# Accuracy\n",
    "accuracy = accuracy_score(y_test, y_pred)\n",
    "print(\"Accuracy:\", accuracy)\n",
    "\n",
    "# Hamming Loss\n",
    "hamming_loss_value = hamming_loss(y_test, y_pred)\n",
    "print(\"Hamming Loss:\", hamming_loss_value)\n",
    "\n",
    "# Precision\n",
    "precision = precision_score(y_test, y_pred, average='micro')  # You can change the average parameter as needed\n",
    "print(\"Precision:\", precision)\n",
    "\n",
    "# Recall\n",
    "recall = recall_score(y_test, y_pred, average='micro')  # You can change the average parameter as needed\n",
    "print(\"Recall:\", recall)\n",
    "\n",
    "# F1-score\n",
    "f1 = f1_score(y_test, y_pred, average='micro')  # You can change the average parameter as needed\n",
    "print(\"F1-score:\", f1)\n",
    "\n",
    "# Jaccard Similarity Score\n",
    "jaccard = jaccard_score(y_test, y_pred, average='micro')  # You can change the average parameter as needed\n",
    "print(\"Jaccard Similarity Score:\", jaccard)\n",
    "\n",
    "# Zero-One Loss\n",
    "zero_one_loss_value = zero_one_loss(y_test, y_pred)\n",
    "print(\"Zero-One Loss:\", zero_one_loss_value)\n",
    "\n",
    "# Coverage Error\n",
    "coverage_error_value = coverage_error(y_test, y_pred)\n",
    "print(\"Coverage Error:\", coverage_error_value)\n",
    "\n",
    "# Average Precision Score\n",
    "average_precision = average_precision_score(y_test, y_pred, average='micro')  # You can change the average parameter as needed\n",
    "print(\"Average Precision Score:\", average_precision)\n"
   ]
  },
  {
   "cell_type": "code",
   "execution_count": null,
   "metadata": {},
   "outputs": [],
   "source": []
  },
  {
   "cell_type": "code",
   "execution_count": null,
   "metadata": {},
   "outputs": [],
   "source": []
  },
  {
   "cell_type": "code",
   "execution_count": null,
   "metadata": {},
   "outputs": [],
   "source": []
  }
 ],
 "metadata": {
  "kernelspec": {
   "display_name": "base",
   "language": "python",
   "name": "python3"
  },
  "language_info": {
   "codemirror_mode": {
    "name": "ipython",
    "version": 3
   },
   "file_extension": ".py",
   "mimetype": "text/x-python",
   "name": "python",
   "nbconvert_exporter": "python",
   "pygments_lexer": "ipython3",
   "version": "3.11.8"
  }
 },
 "nbformat": 4,
 "nbformat_minor": 2
}
